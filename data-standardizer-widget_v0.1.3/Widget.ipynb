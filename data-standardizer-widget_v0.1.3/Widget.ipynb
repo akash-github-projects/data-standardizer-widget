{
 "cells": [
  {
   "cell_type": "code",
   "execution_count": 1,
   "metadata": {},
   "outputs": [],
   "source": [
    "import importlib\n",
    "import sys\n",
    "sys.path.append('..')"
   ]
  },
  {
   "cell_type": "code",
   "execution_count": 2,
   "metadata": {},
   "outputs": [],
   "source": [
    "frontend = importlib.import_module('UI_Modules.FrontEndMain')"
   ]
  },
  {
   "cell_type": "code",
   "execution_count": 3,
   "metadata": {},
   "outputs": [
    {
     "data": {
      "text/html": [
       "<meta charset=\"utf-8\">\n",
       "            <link rel=\"stylesheet\" href=\"https://maxcdn.bootstrapcdn.com/bootstrap/3.4.1/css/bootstrap.min.css\">\n",
       "            <link rel=\"stylesheet\" type=\"text/css\" href=\"Resources/SupportFiles/css/generic_design.css\">"
      ],
      "text/plain": [
       "<IPython.core.display.HTML object>"
      ]
     },
     "metadata": {},
     "output_type": "display_data"
    },
    {
     "data": {
      "application/vnd.jupyter.widget-view+json": {
       "model_id": "09d538ee937c491e9681a8e0586f5a04",
       "version_major": 2,
       "version_minor": 0
      },
      "text/plain": [
       "Output()"
      ]
     },
     "metadata": {},
     "output_type": "display_data"
    }
   ],
   "source": [
    "applycss = importlib.import_module('CommonModules.apply_css')\n",
    "applycss.fcn_load_resources()\n",
    "header = importlib.import_module('CommonModules.headers')\n",
    "header.fcn_display_headers()"
   ]
  },
  {
   "cell_type": "markdown",
   "metadata": {},
   "source": [
    "### Scaling\n",
    "Scaling is used to make all features in the same standing, so that one significant number doesn't impact the model because of its large magnitude.\n",
    "##### Some example of algorithm on which scaling matters\n",
    "- KNN (K nearest neighbour)\n",
    "- K means clustering\n",
    "- PCA (Principle component analysis)\n",
    "\n",
    "##### Algorithm which do not rely on scaling\n",
    "- CART\n",
    "- Random forest\n",
    "- Gradient Boosted Decision Tree"
   ]
  },
  {
   "cell_type": "code",
   "execution_count": 35,
   "metadata": {
    "scrolled": true
   },
   "outputs": [
    {
     "data": {
      "application/vnd.jupyter.widget-view+json": {
       "model_id": "90d1c499908b443e83f8cfb5ce3844f2",
       "version_major": 2,
       "version_minor": 0
      },
      "text/plain": [
       "Accordion(children=(GridspecLayout(children=(Tab(children=(GridspecLayout(children=(HTML(value='<b><font color…"
      ]
     },
     "metadata": {},
     "output_type": "display_data"
    },
    {
     "data": {
      "application/vnd.jupyter.widget-view+json": {
       "model_id": "0eb934633f9b4edf8ee9ddc8a29f2449",
       "version_major": 2,
       "version_minor": 0
      },
      "text/plain": [
       "Output()"
      ]
     },
     "metadata": {},
     "output_type": "display_data"
    }
   ],
   "source": [
    "frontend.fcnDataUploadAccordian()"
   ]
  },
  {
   "cell_type": "code",
   "execution_count": 36,
   "metadata": {},
   "outputs": [
    {
     "data": {
      "application/vnd.jupyter.widget-view+json": {
       "model_id": "55ead82b63b04438ba4fe10b6a42071a",
       "version_major": 2,
       "version_minor": 0
      },
      "text/plain": [
       "Output()"
      ]
     },
     "metadata": {},
     "output_type": "display_data"
    }
   ],
   "source": [
    "frontend.info()"
   ]
  },
  {
   "cell_type": "markdown",
   "metadata": {},
   "source": [
    "\n",
    "#### Scalers:\n",
    "- ***Min-Max scaler:*** Transform features by scaling each feature to a given range. [0,1] [-1,5].This Scaler responds well if the standard deviation is small and when a distribution is not Gaussian. This Scaler is sensitive to outliers. Algos: K nearest neighbor, Neural network.\n",
    "- ***Min-Max Abs scaler:*** Scale each feature by its maximum absolute value.On positive-only data, this Scaler behaves similarly to Min Max Scaler and, therefore, also suffers from the presence of significant outliers. \n",
    "- ***Standard scaler:*** Distribute your data normally within each feature such that mean is 0 and standard deviation is 1.If data is not normally distributed then this scaler is best to use\n",
    "- ***Robust scaler:*** This Scaler removes the median and scales the data according to the quantile range. Default 50-75.\n",
    "- ***Quantile Scaler (aka Rank Scaler):*** Transform features using quantiles information. This method transforms the features to follow a uniform or a normal distribution.It also reduces the impact of (marginal) outliers. \n",
    "- ***Power Scaler:*** The power transformer is a family of parametric, monotonic transformations that are applied to make data more Gaussian-like. The power transform finds the optimal scaling factor in stabilizing variance and minimizing skewness through maximum likelihood estimation.\n"
   ]
  },
  {
   "cell_type": "code",
   "execution_count": 40,
   "metadata": {
    "scrolled": true
   },
   "outputs": [
    {
     "data": {
      "application/vnd.jupyter.widget-view+json": {
       "model_id": "934a7b7d79a342b1ae4e0c24cad41505",
       "version_major": 2,
       "version_minor": 0
      },
      "text/plain": [
       "Accordion(children=(GridspecLayout(children=(SelectMultiple(description='Fields for analysis:', layout=Layout(…"
      ]
     },
     "metadata": {},
     "output_type": "display_data"
    },
    {
     "data": {
      "application/vnd.jupyter.widget-view+json": {
       "model_id": "3096d6cecc3047f4b58492a1e4c60024",
       "version_major": 2,
       "version_minor": 0
      },
      "text/plain": [
       "Output()"
      ]
     },
     "metadata": {},
     "output_type": "display_data"
    },
    {
     "data": {
      "application/javascript": [
       "IPython.notebook.scroll_to_cell(IPython.notebook.get_selected_index()+1)"
      ],
      "text/plain": [
       "<IPython.core.display.Javascript object>"
      ]
     },
     "metadata": {},
     "output_type": "display_data"
    },
    {
     "data": {
      "application/javascript": [
       "IPython.notebook.execute_cell_range(IPython.notebook.get_selected_index()+1, IPython.notebook.ncells())"
      ],
      "text/plain": [
       "<IPython.core.display.Javascript object>"
      ]
     },
     "metadata": {},
     "output_type": "display_data"
    }
   ],
   "source": [
    "frontend.fcnLoadUserInputs()"
   ]
  },
  {
   "cell_type": "code",
   "execution_count": 41,
   "metadata": {},
   "outputs": [
    {
     "data": {
      "application/vnd.jupyter.widget-view+json": {
       "model_id": "a5fb9d86cab1469aa8edafd91c8131e7",
       "version_major": 2,
       "version_minor": 0
      },
      "text/plain": [
       "Accordion(children=(GridspecLayout(children=(Tab(children=(GridspecLayout(children=(HTML(value='<button class=…"
      ]
     },
     "metadata": {},
     "output_type": "display_data"
    }
   ],
   "source": [
    "frontend.fcnResultCompare()"
   ]
  }
 ],
 "metadata": {
  "kernelspec": {
   "display_name": "Python 3",
   "language": "python",
   "name": "python3"
  },
  "language_info": {
   "codemirror_mode": {
    "name": "ipython",
    "version": 3
   },
   "file_extension": ".py",
   "mimetype": "text/x-python",
   "name": "python",
   "nbconvert_exporter": "python",
   "pygments_lexer": "ipython3",
   "version": "3.7.7"
  }
 },
 "nbformat": 4,
 "nbformat_minor": 4
}
